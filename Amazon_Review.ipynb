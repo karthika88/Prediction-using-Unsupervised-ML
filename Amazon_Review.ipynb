{
 "cells": [
  {
   "cell_type": "code",
   "execution_count": 1,
   "metadata": {},
   "outputs": [],
   "source": [
    "import pandas as pd\n",
    "import numpy as np\n",
    "from bs4 import BeautifulSoup\n",
    "import requests"
   ]
  },
  {
   "cell_type": "code",
   "execution_count": 2,
   "metadata": {},
   "outputs": [],
   "source": [
    "base_url=\"https://www.amazon.in/s?k=\""
   ]
  },
  {
   "cell_type": "code",
   "execution_count": 3,
   "metadata": {},
   "outputs": [],
   "source": [
    "model_name=\"m31\""
   ]
  },
  {
   "cell_type": "code",
   "execution_count": 4,
   "metadata": {},
   "outputs": [],
   "source": [
    "url=base_url+model_name"
   ]
  },
  {
   "cell_type": "code",
   "execution_count": 5,
   "metadata": {},
   "outputs": [],
   "source": [
    "headers=({\"user-agent\":\"Mozilla/5.0 (Windows NT 10.0; Win64; x64) AppleWebKit/537.36 (KHTML, like Gecko) Chrome/91.0.4472.114 Safari/537.36\", 'Accept-Language': 'en-US, en;q=0.5'})\n",
    "cookies = dict(cookies_are='working')\n",
    "#https://developers.whatismybrowser.com/useragents/explore/software_type_specific/web-browser/})"
   ]
  },
  {
   "cell_type": "code",
   "execution_count": 6,
   "metadata": {},
   "outputs": [],
   "source": [
    "r = requests.get(url,headers=headers, cookies=cookies)\n",
    "search_soup = BeautifulSoup(r.text, 'html.parser')"
   ]
  },
  {
   "cell_type": "code",
   "execution_count": 7,
   "metadata": {},
   "outputs": [
    {
     "data": {
      "text/plain": [
       "<Response [200]>"
      ]
     },
     "execution_count": 7,
     "metadata": {},
     "output_type": "execute_result"
    }
   ],
   "source": [
    "r"
   ]
  },
  {
   "cell_type": "code",
   "execution_count": 8,
   "metadata": {},
   "outputs": [],
   "source": [
    "item_list=search_soup.find_all('div', {'data-component-type':'s-search-result'})"
   ]
  },
  {
   "cell_type": "code",
   "execution_count": 9,
   "metadata": {},
   "outputs": [],
   "source": [
    "item=search_soup.find('div',{'data-index':'0'})"
   ]
  },
  {
   "cell_type": "code",
   "execution_count": 10,
   "metadata": {},
   "outputs": [],
   "source": [
    "atag=item.div.h2.a"
   ]
  },
  {
   "cell_type": "code",
   "execution_count": 11,
   "metadata": {},
   "outputs": [],
   "source": [
    "item_url=atag.get('href').split('/')"
   ]
  },
  {
   "cell_type": "code",
   "execution_count": 12,
   "metadata": {},
   "outputs": [
    {
     "data": {
      "text/plain": [
       "['',\n",
       " 'Samsung-Galaxy-Ocean-128GB-Storage',\n",
       " 'dp',\n",
       " 'B07HG8S7KP',\n",
       " 'ref=sr_1_1?dchild=1&keywords=m31&qid=1624212706&sr=8-1']"
      ]
     },
     "execution_count": 12,
     "metadata": {},
     "output_type": "execute_result"
    }
   ],
   "source": [
    "item_url"
   ]
  },
  {
   "cell_type": "code",
   "execution_count": 13,
   "metadata": {},
   "outputs": [],
   "source": [
    "url_model=\"https://www.amazon.in\"+atag.get('href')"
   ]
  },
  {
   "cell_type": "code",
   "execution_count": 14,
   "metadata": {},
   "outputs": [
    {
     "data": {
      "text/plain": [
       "'https://www.amazon.in/Samsung-Galaxy-Ocean-128GB-Storage/dp/B07HG8S7KP/ref=sr_1_1?dchild=1&keywords=m31&qid=1624212706&sr=8-1'"
      ]
     },
     "execution_count": 14,
     "metadata": {},
     "output_type": "execute_result"
    }
   ],
   "source": [
    "url_model\n"
   ]
  },
  {
   "cell_type": "code",
   "execution_count": 15,
   "metadata": {},
   "outputs": [],
   "source": [
    "review_url=\"https://www.amazon.in/\"+item_url[1]+'/product-reviews/'+item_url[3]+'?reviewerType=all_reviews'"
   ]
  },
  {
   "cell_type": "code",
   "execution_count": 16,
   "metadata": {},
   "outputs": [
    {
     "data": {
      "text/plain": [
       "'https://www.amazon.in/Samsung-Galaxy-Ocean-128GB-Storage/product-reviews/B07HG8S7KP?reviewerType=all_reviews'"
      ]
     },
     "execution_count": 16,
     "metadata": {},
     "output_type": "execute_result"
    }
   ],
   "source": [
    "review_url"
   ]
  },
  {
   "cell_type": "code",
   "execution_count": 17,
   "metadata": {},
   "outputs": [],
   "source": [
    "r = requests.get(review_url,headers)\n",
    "soup = BeautifulSoup(r.content, 'html5lib') "
   ]
  },
  {
   "cell_type": "code",
   "execution_count": 18,
   "metadata": {},
   "outputs": [
    {
     "data": {
      "text/plain": [
       "<Response [200]>"
      ]
     },
     "execution_count": 18,
     "metadata": {},
     "output_type": "execute_result"
    }
   ],
   "source": [
    "r"
   ]
  },
  {
   "cell_type": "code",
   "execution_count": 19,
   "metadata": {},
   "outputs": [
    {
     "data": {
      "text/plain": [
       "'Amazon.in:Customer reviews: Samsung Galaxy M31 (Ocean Blue, 8GB RAM, 128GB Storage)'"
      ]
     },
     "execution_count": 19,
     "metadata": {},
     "output_type": "execute_result"
    }
   ],
   "source": [
    "soup.title.text"
   ]
  },
  {
   "cell_type": "code",
   "execution_count": 20,
   "metadata": {},
   "outputs": [],
   "source": [
    "reviews=soup.find_all('div',{'data-hook':'review'})"
   ]
  },
  {
   "cell_type": "code",
   "execution_count": 21,
   "metadata": {},
   "outputs": [],
   "source": [
    "review_title=[]\n",
    "for i in reviews:\n",
    "    new=i.find('a', {'data-hook':'review-title'}).text\n",
    "    new=new.strip()\n",
    "    review_title.append(new)"
   ]
  },
  {
   "cell_type": "code",
   "execution_count": 22,
   "metadata": {},
   "outputs": [
    {
     "name": "stdout",
     "output_type": "stream",
     "text": [
      "['Best Value for Money in this Range. Go for it without any doubt.', 'Samsung m31 all rounder  best mobile.', 'Poor camera', 'False ads, poor camera quality, inefficient battery management', 'Serious Issue', 'Inferior quality and built', 'Not good at alll', \"Samsung it's not fair .\", 'Worst phone', 'Bad Product by Samsung']\n"
     ]
    }
   ],
   "source": [
    "print(review_title)"
   ]
  },
  {
   "cell_type": "code",
   "execution_count": 23,
   "metadata": {},
   "outputs": [
    {
     "name": "stdout",
     "output_type": "stream",
     "text": [
      "10\n"
     ]
    }
   ],
   "source": [
    "print(len(review_title))"
   ]
  },
  {
   "cell_type": "code",
   "execution_count": 24,
   "metadata": {},
   "outputs": [
    {
     "name": "stdout",
     "output_type": "stream",
     "text": [
      "10\n"
     ]
    }
   ],
   "source": [
    "review_rating=[]\n",
    "for i in reviews:\n",
    "    new=i.find('i',{'data-hook':'review-star-rating'}).text\n",
    "    new=new.strip()\n",
    "    review_rating.append(new)\n",
    "print(len(review_rating))"
   ]
  },
  {
   "cell_type": "code",
   "execution_count": 25,
   "metadata": {},
   "outputs": [
    {
     "name": "stdout",
     "output_type": "stream",
     "text": [
      "10\n"
     ]
    }
   ],
   "source": [
    "review_date=[]\n",
    "for i in reviews:\n",
    "    new=i.find('span',{'data-hook':'review-date'}).text\n",
    "    new=new.strip()\n",
    "    review_date.append(new)\n",
    "print(len(review_date))"
   ]
  },
  {
   "cell_type": "code",
   "execution_count": 26,
   "metadata": {},
   "outputs": [
    {
     "name": "stdout",
     "output_type": "stream",
     "text": [
      "10\n"
     ]
    }
   ],
   "source": [
    "review_body=[]\n",
    "for i in reviews:\n",
    "    new=i.find('span',{'data-hook':'review-body'}).text\n",
    "    new=new.strip()\n",
    "    review_body.append(new)\n",
    "print(len(review_body))"
   ]
  },
  {
   "cell_type": "code",
   "execution_count": 27,
   "metadata": {},
   "outputs": [],
   "source": [
    "review_df=pd.DataFrame({\n",
    "    'review_date':review_date,\n",
    "    'review_title':review_title,\n",
    "    'review_body':review_body,\n",
    "    'review_rating':review_rating})"
   ]
  },
  {
   "cell_type": "code",
   "execution_count": 28,
   "metadata": {},
   "outputs": [],
   "source": [
    "review_df=pd.DataFrame({\n",
    "    'review_date':review_date,\n",
    "    'review_title':review_title,\n",
    "    'review_body':review_body,\n",
    "    'review_rating':review_rating})"
   ]
  },
  {
   "cell_type": "code",
   "execution_count": 29,
   "metadata": {},
   "outputs": [
    {
     "data": {
      "text/html": [
       "<div>\n",
       "<style scoped>\n",
       "    .dataframe tbody tr th:only-of-type {\n",
       "        vertical-align: middle;\n",
       "    }\n",
       "\n",
       "    .dataframe tbody tr th {\n",
       "        vertical-align: top;\n",
       "    }\n",
       "\n",
       "    .dataframe thead th {\n",
       "        text-align: right;\n",
       "    }\n",
       "</style>\n",
       "<table border=\"1\" class=\"dataframe\">\n",
       "  <thead>\n",
       "    <tr style=\"text-align: right;\">\n",
       "      <th></th>\n",
       "      <th>review_date</th>\n",
       "      <th>review_title</th>\n",
       "      <th>review_body</th>\n",
       "      <th>review_rating</th>\n",
       "    </tr>\n",
       "  </thead>\n",
       "  <tbody>\n",
       "    <tr>\n",
       "      <th>0</th>\n",
       "      <td>Reviewed in India on 9 March 2020</td>\n",
       "      <td>Best Value for Money in this Range. Go for it ...</td>\n",
       "      <td>This is best thing you can get at this price f...</td>\n",
       "      <td>5.0 out of 5 stars</td>\n",
       "    </tr>\n",
       "    <tr>\n",
       "      <th>1</th>\n",
       "      <td>Reviewed in India on 9 March 2020</td>\n",
       "      <td>Samsung m31 all rounder  best mobile.</td>\n",
       "      <td>Best camera, very good battery life, eat body ...</td>\n",
       "      <td>5.0 out of 5 stars</td>\n",
       "    </tr>\n",
       "    <tr>\n",
       "      <th>2</th>\n",
       "      <td>Reviewed in India on 9 March 2020</td>\n",
       "      <td>Poor camera</td>\n",
       "      <td>3rd class front camera. 32 MP front camera n l...</td>\n",
       "      <td>1.0 out of 5 stars</td>\n",
       "    </tr>\n",
       "    <tr>\n",
       "      <th>3</th>\n",
       "      <td>Reviewed in India on 9 March 2020</td>\n",
       "      <td>False ads, poor camera quality, inefficient ba...</td>\n",
       "      <td>Lets just begin with the obvious. This phone's...</td>\n",
       "      <td>1.0 out of 5 stars</td>\n",
       "    </tr>\n",
       "    <tr>\n",
       "      <th>4</th>\n",
       "      <td>Reviewed in India on 9 March 2020</td>\n",
       "      <td>Serious Issue</td>\n",
       "      <td>The phone was wrapped in dust. Although it was...</td>\n",
       "      <td>1.0 out of 5 stars</td>\n",
       "    </tr>\n",
       "    <tr>\n",
       "      <th>5</th>\n",
       "      <td>Reviewed in India on 9 March 2020</td>\n",
       "      <td>Inferior quality and built</td>\n",
       "      <td>I am using it from 3 days , 6000 mah battery i...</td>\n",
       "      <td>1.0 out of 5 stars</td>\n",
       "    </tr>\n",
       "    <tr>\n",
       "      <th>6</th>\n",
       "      <td>Reviewed in India on 9 March 2020</td>\n",
       "      <td>Not good at alll</td>\n",
       "      <td>Software is no working. No sounds in media, ca...</td>\n",
       "      <td>1.0 out of 5 stars</td>\n",
       "    </tr>\n",
       "    <tr>\n",
       "      <th>7</th>\n",
       "      <td>Reviewed in India on 9 March 2020</td>\n",
       "      <td>Samsung it's not fair .</td>\n",
       "      <td>Phone camera is not good , samsung says it's 6...</td>\n",
       "      <td>2.0 out of 5 stars</td>\n",
       "    </tr>\n",
       "    <tr>\n",
       "      <th>8</th>\n",
       "      <td>Reviewed in India on 29 May 2020</td>\n",
       "      <td>Worst phone</td>\n",
       "      <td>Camera front is worst, not up to the mark. Was...</td>\n",
       "      <td>1.0 out of 5 stars</td>\n",
       "    </tr>\n",
       "    <tr>\n",
       "      <th>9</th>\n",
       "      <td>Reviewed in India on 9 March 2020</td>\n",
       "      <td>Bad Product by Samsung</td>\n",
       "      <td>Not a Samsung performance. It seems it was lau...</td>\n",
       "      <td>3.0 out of 5 stars</td>\n",
       "    </tr>\n",
       "  </tbody>\n",
       "</table>\n",
       "</div>"
      ],
      "text/plain": [
       "                         review_date  \\\n",
       "0  Reviewed in India on 9 March 2020   \n",
       "1  Reviewed in India on 9 March 2020   \n",
       "2  Reviewed in India on 9 March 2020   \n",
       "3  Reviewed in India on 9 March 2020   \n",
       "4  Reviewed in India on 9 March 2020   \n",
       "5  Reviewed in India on 9 March 2020   \n",
       "6  Reviewed in India on 9 March 2020   \n",
       "7  Reviewed in India on 9 March 2020   \n",
       "8   Reviewed in India on 29 May 2020   \n",
       "9  Reviewed in India on 9 March 2020   \n",
       "\n",
       "                                        review_title  \\\n",
       "0  Best Value for Money in this Range. Go for it ...   \n",
       "1              Samsung m31 all rounder  best mobile.   \n",
       "2                                        Poor camera   \n",
       "3  False ads, poor camera quality, inefficient ba...   \n",
       "4                                      Serious Issue   \n",
       "5                         Inferior quality and built   \n",
       "6                                   Not good at alll   \n",
       "7                            Samsung it's not fair .   \n",
       "8                                        Worst phone   \n",
       "9                             Bad Product by Samsung   \n",
       "\n",
       "                                         review_body       review_rating  \n",
       "0  This is best thing you can get at this price f...  5.0 out of 5 stars  \n",
       "1  Best camera, very good battery life, eat body ...  5.0 out of 5 stars  \n",
       "2  3rd class front camera. 32 MP front camera n l...  1.0 out of 5 stars  \n",
       "3  Lets just begin with the obvious. This phone's...  1.0 out of 5 stars  \n",
       "4  The phone was wrapped in dust. Although it was...  1.0 out of 5 stars  \n",
       "5  I am using it from 3 days , 6000 mah battery i...  1.0 out of 5 stars  \n",
       "6  Software is no working. No sounds in media, ca...  1.0 out of 5 stars  \n",
       "7  Phone camera is not good , samsung says it's 6...  2.0 out of 5 stars  \n",
       "8  Camera front is worst, not up to the mark. Was...  1.0 out of 5 stars  \n",
       "9  Not a Samsung performance. It seems it was lau...  3.0 out of 5 stars  "
      ]
     },
     "execution_count": 29,
     "metadata": {},
     "output_type": "execute_result"
    }
   ],
   "source": [
    "review_df"
   ]
  },
  {
   "cell_type": "code",
   "execution_count": null,
   "metadata": {},
   "outputs": [],
   "source": []
  }
 ],
 "metadata": {
  "kernelspec": {
   "display_name": "Python 3",
   "language": "python",
   "name": "python3"
  },
  "language_info": {
   "codemirror_mode": {
    "name": "ipython",
    "version": 3
   },
   "file_extension": ".py",
   "mimetype": "text/x-python",
   "name": "python",
   "nbconvert_exporter": "python",
   "pygments_lexer": "ipython3",
   "version": "3.8.5"
  }
 },
 "nbformat": 4,
 "nbformat_minor": 4
}
