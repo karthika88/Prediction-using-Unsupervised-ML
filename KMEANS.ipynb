{
 "cells": [
  {
   "cell_type": "code",
   "execution_count": 1,
   "metadata": {},
   "outputs": [],
   "source": [
    "import numpy as np\n",
    "import pandas as pd\n",
    "import seaborn as sns\n",
    "import matplotlib.pyplot as plt\n",
    "from sklearn import datasets\n",
    "from sklearn.preprocessing import StandardScaler\n",
    "from sklearn.cluster import KMeans\n",
    "from scipy.cluster.hierarchy import linkage, dendrogram, cut_tree\n"
   ]
  },
  {
   "cell_type": "code",
   "execution_count": 2,
   "metadata": {},
   "outputs": [],
   "source": [
    "# Load the dataset\n",
    "import sklearn.datasets as datasets\n",
    "iris=datasets.load_iris()"
   ]
  },
  {
   "cell_type": "code",
   "execution_count": 5,
   "metadata": {},
   "outputs": [],
   "source": [
    "# Dataframe formation\n",
    "iris_df = pd.DataFrame(iris.data, columns = iris.feature_names)"
   ]
  },
  {
   "cell_type": "code",
   "execution_count": 6,
   "metadata": {},
   "outputs": [
    {
     "data": {
      "text/html": [
       "<div>\n",
       "<style scoped>\n",
       "    .dataframe tbody tr th:only-of-type {\n",
       "        vertical-align: middle;\n",
       "    }\n",
       "\n",
       "    .dataframe tbody tr th {\n",
       "        vertical-align: top;\n",
       "    }\n",
       "\n",
       "    .dataframe thead th {\n",
       "        text-align: right;\n",
       "    }\n",
       "</style>\n",
       "<table border=\"1\" class=\"dataframe\">\n",
       "  <thead>\n",
       "    <tr style=\"text-align: right;\">\n",
       "      <th></th>\n",
       "      <th>sepal length (cm)</th>\n",
       "      <th>sepal width (cm)</th>\n",
       "      <th>petal length (cm)</th>\n",
       "      <th>petal width (cm)</th>\n",
       "    </tr>\n",
       "  </thead>\n",
       "  <tbody>\n",
       "    <tr>\n",
       "      <th>0</th>\n",
       "      <td>5.1</td>\n",
       "      <td>3.5</td>\n",
       "      <td>1.4</td>\n",
       "      <td>0.2</td>\n",
       "    </tr>\n",
       "    <tr>\n",
       "      <th>1</th>\n",
       "      <td>4.9</td>\n",
       "      <td>3.0</td>\n",
       "      <td>1.4</td>\n",
       "      <td>0.2</td>\n",
       "    </tr>\n",
       "    <tr>\n",
       "      <th>2</th>\n",
       "      <td>4.7</td>\n",
       "      <td>3.2</td>\n",
       "      <td>1.3</td>\n",
       "      <td>0.2</td>\n",
       "    </tr>\n",
       "    <tr>\n",
       "      <th>3</th>\n",
       "      <td>4.6</td>\n",
       "      <td>3.1</td>\n",
       "      <td>1.5</td>\n",
       "      <td>0.2</td>\n",
       "    </tr>\n",
       "    <tr>\n",
       "      <th>4</th>\n",
       "      <td>5.0</td>\n",
       "      <td>3.6</td>\n",
       "      <td>1.4</td>\n",
       "      <td>0.2</td>\n",
       "    </tr>\n",
       "    <tr>\n",
       "      <th>...</th>\n",
       "      <td>...</td>\n",
       "      <td>...</td>\n",
       "      <td>...</td>\n",
       "      <td>...</td>\n",
       "    </tr>\n",
       "    <tr>\n",
       "      <th>145</th>\n",
       "      <td>6.7</td>\n",
       "      <td>3.0</td>\n",
       "      <td>5.2</td>\n",
       "      <td>2.3</td>\n",
       "    </tr>\n",
       "    <tr>\n",
       "      <th>146</th>\n",
       "      <td>6.3</td>\n",
       "      <td>2.5</td>\n",
       "      <td>5.0</td>\n",
       "      <td>1.9</td>\n",
       "    </tr>\n",
       "    <tr>\n",
       "      <th>147</th>\n",
       "      <td>6.5</td>\n",
       "      <td>3.0</td>\n",
       "      <td>5.2</td>\n",
       "      <td>2.0</td>\n",
       "    </tr>\n",
       "    <tr>\n",
       "      <th>148</th>\n",
       "      <td>6.2</td>\n",
       "      <td>3.4</td>\n",
       "      <td>5.4</td>\n",
       "      <td>2.3</td>\n",
       "    </tr>\n",
       "    <tr>\n",
       "      <th>149</th>\n",
       "      <td>5.9</td>\n",
       "      <td>3.0</td>\n",
       "      <td>5.1</td>\n",
       "      <td>1.8</td>\n",
       "    </tr>\n",
       "  </tbody>\n",
       "</table>\n",
       "<p>150 rows × 4 columns</p>\n",
       "</div>"
      ],
      "text/plain": [
       "     sepal length (cm)  sepal width (cm)  petal length (cm)  petal width (cm)\n",
       "0                  5.1               3.5                1.4               0.2\n",
       "1                  4.9               3.0                1.4               0.2\n",
       "2                  4.7               3.2                1.3               0.2\n",
       "3                  4.6               3.1                1.5               0.2\n",
       "4                  5.0               3.6                1.4               0.2\n",
       "..                 ...               ...                ...               ...\n",
       "145                6.7               3.0                5.2               2.3\n",
       "146                6.3               2.5                5.0               1.9\n",
       "147                6.5               3.0                5.2               2.0\n",
       "148                6.2               3.4                5.4               2.3\n",
       "149                5.9               3.0                5.1               1.8\n",
       "\n",
       "[150 rows x 4 columns]"
      ]
     },
     "execution_count": 6,
     "metadata": {},
     "output_type": "execute_result"
    }
   ],
   "source": [
    "iris_df"
   ]
  },
  {
   "cell_type": "code",
   "execution_count": 7,
   "metadata": {},
   "outputs": [],
   "source": [
    "from sklearn.cluster import KMeans\n",
    "from sklearn.preprocessing import LabelEncoder\n",
    "from sklearn.preprocessing import MinMaxScaler"
   ]
  },
  {
   "cell_type": "code",
   "execution_count": 8,
   "metadata": {},
   "outputs": [
    {
     "name": "stdout",
     "output_type": "stream",
     "text": [
      "<class 'pandas.core.frame.DataFrame'>\n",
      "RangeIndex: 150 entries, 0 to 149\n",
      "Data columns (total 4 columns):\n",
      " #   Column             Non-Null Count  Dtype  \n",
      "---  ------             --------------  -----  \n",
      " 0   sepal length (cm)  150 non-null    float64\n",
      " 1   sepal width (cm)   150 non-null    float64\n",
      " 2   petal length (cm)  150 non-null    float64\n",
      " 3   petal width (cm)   150 non-null    float64\n",
      "dtypes: float64(4)\n",
      "memory usage: 4.8 KB\n"
     ]
    }
   ],
   "source": [
    "iris_df.info()"
   ]
  },
  {
   "cell_type": "code",
   "execution_count": 15,
   "metadata": {},
   "outputs": [
    {
     "data": {
      "text/html": [
       "<div>\n",
       "<style scoped>\n",
       "    .dataframe tbody tr th:only-of-type {\n",
       "        vertical-align: middle;\n",
       "    }\n",
       "\n",
       "    .dataframe tbody tr th {\n",
       "        vertical-align: top;\n",
       "    }\n",
       "\n",
       "    .dataframe thead th {\n",
       "        text-align: right;\n",
       "    }\n",
       "</style>\n",
       "<table border=\"1\" class=\"dataframe\">\n",
       "  <thead>\n",
       "    <tr style=\"text-align: right;\">\n",
       "      <th></th>\n",
       "      <th>sepal length (cm)</th>\n",
       "      <th>sepal width (cm)</th>\n",
       "      <th>petal length (cm)</th>\n",
       "      <th>petal width (cm)</th>\n",
       "    </tr>\n",
       "  </thead>\n",
       "  <tbody>\n",
       "    <tr>\n",
       "      <th>count</th>\n",
       "      <td>150.000000</td>\n",
       "      <td>150.000000</td>\n",
       "      <td>150.000000</td>\n",
       "      <td>150.000000</td>\n",
       "    </tr>\n",
       "    <tr>\n",
       "      <th>mean</th>\n",
       "      <td>5.843333</td>\n",
       "      <td>3.057333</td>\n",
       "      <td>3.758000</td>\n",
       "      <td>1.199333</td>\n",
       "    </tr>\n",
       "    <tr>\n",
       "      <th>std</th>\n",
       "      <td>0.828066</td>\n",
       "      <td>0.435866</td>\n",
       "      <td>1.765298</td>\n",
       "      <td>0.762238</td>\n",
       "    </tr>\n",
       "    <tr>\n",
       "      <th>min</th>\n",
       "      <td>4.300000</td>\n",
       "      <td>2.000000</td>\n",
       "      <td>1.000000</td>\n",
       "      <td>0.100000</td>\n",
       "    </tr>\n",
       "    <tr>\n",
       "      <th>25%</th>\n",
       "      <td>5.100000</td>\n",
       "      <td>2.800000</td>\n",
       "      <td>1.600000</td>\n",
       "      <td>0.300000</td>\n",
       "    </tr>\n",
       "    <tr>\n",
       "      <th>50%</th>\n",
       "      <td>5.800000</td>\n",
       "      <td>3.000000</td>\n",
       "      <td>4.350000</td>\n",
       "      <td>1.300000</td>\n",
       "    </tr>\n",
       "    <tr>\n",
       "      <th>75%</th>\n",
       "      <td>6.400000</td>\n",
       "      <td>3.300000</td>\n",
       "      <td>5.100000</td>\n",
       "      <td>1.800000</td>\n",
       "    </tr>\n",
       "    <tr>\n",
       "      <th>max</th>\n",
       "      <td>7.900000</td>\n",
       "      <td>4.400000</td>\n",
       "      <td>6.900000</td>\n",
       "      <td>2.500000</td>\n",
       "    </tr>\n",
       "  </tbody>\n",
       "</table>\n",
       "</div>"
      ],
      "text/plain": [
       "       sepal length (cm)  sepal width (cm)  petal length (cm)  \\\n",
       "count         150.000000        150.000000         150.000000   \n",
       "mean            5.843333          3.057333           3.758000   \n",
       "std             0.828066          0.435866           1.765298   \n",
       "min             4.300000          2.000000           1.000000   \n",
       "25%             5.100000          2.800000           1.600000   \n",
       "50%             5.800000          3.000000           4.350000   \n",
       "75%             6.400000          3.300000           5.100000   \n",
       "max             7.900000          4.400000           6.900000   \n",
       "\n",
       "       petal width (cm)  \n",
       "count        150.000000  \n",
       "mean           1.199333  \n",
       "std            0.762238  \n",
       "min            0.100000  \n",
       "25%            0.300000  \n",
       "50%            1.300000  \n",
       "75%            1.800000  \n",
       "max            2.500000  "
      ]
     },
     "execution_count": 15,
     "metadata": {},
     "output_type": "execute_result"
    }
   ],
   "source": [
    "iris_df.describe()"
   ]
  },
  {
   "cell_type": "code",
   "execution_count": 11,
   "metadata": {},
   "outputs": [
    {
     "data": {
      "text/plain": [
       "(150, 4)"
      ]
     },
     "execution_count": 11,
     "metadata": {},
     "output_type": "execute_result"
    }
   ],
   "source": [
    "iris_df.shape"
   ]
  },
  {
   "cell_type": "code",
   "execution_count": 13,
   "metadata": {},
   "outputs": [
    {
     "data": {
      "text/plain": [
       "sepal length (cm)    0\n",
       "sepal width (cm)     0\n",
       "petal length (cm)    0\n",
       "petal width (cm)     0\n",
       "dtype: int64"
      ]
     },
     "execution_count": 13,
     "metadata": {},
     "output_type": "execute_result"
    }
   ],
   "source": [
    "iris_df.isnull().sum()"
   ]
  },
  {
   "cell_type": "code",
   "execution_count": 16,
   "metadata": {},
   "outputs": [
    {
     "data": {
      "image/png": "[encoded data removed]",
      "text/plain": [
       "<Figure size 432x288 with 1 Axes>"
      ]
     },
     "metadata": {
      "needs_background": "light"
     },
     "output_type": "display_data"
    },
    {
     "data": {
      "image/png": "[encoded data removed]",
      "text/plain": [
       "<Figure size 432x288 with 1 Axes>"
      ]
     },
     "metadata": {
      "needs_background": "light"
     },
     "output_type": "display_data"
    },
    {
     "data": {
      "image/png": "[encoded data removed]",
      "text/plain": [
       "<Figure size 432x288 with 1 Axes>"
      ]
     },
     "metadata": {
      "needs_background": "light"
     },
     "output_type": "display_data"
    },
    {
     "data": {
      "image/png": "[encoded data removed]",
      "text/plain": [
       "<Figure size 432x288 with 1 Axes>"
      ]
     },
     "metadata": {
      "needs_background": "light"
     },
     "output_type": "display_data"
    }
   ],
   "source": [
    "cols = iris_df.columns\n",
    "for i in cols:\n",
    "    sns.boxplot(y=iris_df[i])\n",
    "    plt.show()"
   ]
  },
  {
   "cell_type": "code",
   "execution_count": 17,
   "metadata": {},
   "outputs": [
    {
     "data": {
      "text/plain": [
       "(146, 4)"
      ]
     },
     "execution_count": 17,
     "metadata": {},
     "output_type": "execute_result"
    }
   ],
   "source": [
    "# Remove the outliers from sepal width\n",
    "q1 = iris_df['sepal width (cm)'].quantile(0.25)\n",
    "q3 = iris_df['sepal width (cm)'].quantile(0.75)\n",
    "iqr = q3 - q1\n",
    "iris_df = iris_df[(iris_df['sepal width (cm)'] >= q1-1.5*iqr) & (iris_df['sepal width (cm)'] <= q3+1.5*iqr)]\n",
    "iris_df.shape"
   ]
  },
  {
   "cell_type": "code",
   "execution_count": 42,
   "metadata": {},
   "outputs": [
    {
     "data": {
      "text/plain": [
       "4.05"
      ]
     },
     "execution_count": 42,
     "metadata": {},
     "output_type": "execute_result"
    }
   ],
   "source": [
    "q1 = iris_df['sepal width (cm)'].quantile(0.25)\n",
    "q1\n",
    "q3 = iris_df['sepal width (cm)'].quantile(0.75)\n",
    "q3\n",
    "iqr = q3 - q1\n",
    "iqr\n",
    "q1-1.5*iqr\n",
    "q3+1.5*iqr"
   ]
  },
  {
   "cell_type": "code",
   "execution_count": 19,
   "metadata": {},
   "outputs": [
    {
     "data": {
      "image/png": "[encoded data removed]",
      "text/plain": [
       "<Figure size 432x288 with 1 Axes>"
      ]
     },
     "metadata": {
      "needs_background": "light"
     },
     "output_type": "display_data"
    }
   ],
   "source": [
    "sns.boxplot(y=iris_df['sepal width (cm)'])\n",
    "plt.show()"
   ]
  },
  {
   "cell_type": "code",
   "execution_count": 21,
   "metadata": {},
   "outputs": [],
   "source": [
    "# Standardizing to avoid bias\n",
    "standard_scaler = StandardScaler()\n",
    "df_norm = standard_scaler.fit_transform(iris_df)"
   ]
  },
  {
   "cell_type": "code",
   "execution_count": 22,
   "metadata": {},
   "outputs": [
    {
     "data": {
      "text/plain": [
       "array([[-0.9105154 ,  1.15915054, -1.37376391, -1.34852508],\n",
       "       [-1.15112218, -0.10192233, -1.37376391, -1.34852508],\n",
       "       [-1.39172896,  0.40250682, -1.43084118, -1.34852508],\n",
       "       [-1.51203236,  0.15029225, -1.31668664, -1.34852508],\n",
       "       [-1.03081879,  1.41136512, -1.37376391, -1.34852508],\n",
       "       [-0.54960522,  2.16800884, -1.20253209, -1.08425037],\n",
       "       [-1.51203236,  0.90693597, -1.37376391, -1.21638772],\n",
       "       [-1.03081879,  0.90693597, -1.31668664, -1.34852508],\n",
       "       [-1.75263914, -0.3541369 , -1.37376391, -1.34852508],\n",
       "       [-1.15112218,  0.15029225, -1.31668664, -1.48066244],\n",
       "       [-0.54960522,  1.66357969, -1.31668664, -1.34852508],\n",
       "       [-1.27142557,  0.90693597, -1.25960937, -1.34852508],\n",
       "       [-1.27142557, -0.10192233, -1.37376391, -1.48066244],\n",
       "       [-1.87294253, -0.10192233, -1.54499572, -1.48066244],\n",
       "       [-0.06839165,  2.42022341, -1.48791845, -1.34852508],\n",
       "       [-0.54960522,  2.16800884, -1.43084118, -1.08425037],\n",
       "       [-0.9105154 ,  1.15915054, -1.37376391, -1.21638772],\n",
       "       [-0.18869505,  1.91579426, -1.20253209, -1.21638772],\n",
       "       [-0.9105154 ,  1.91579426, -1.31668664, -1.21638772],\n",
       "       [-0.54960522,  0.90693597, -1.20253209, -1.34852508],\n",
       "       [-0.9105154 ,  1.66357969, -1.31668664, -1.08425037],\n",
       "       [-1.51203236,  1.41136512, -1.60207299, -1.34852508],\n",
       "       [-0.9105154 ,  0.65472139, -1.20253209, -0.95211301],\n",
       "       [-1.27142557,  0.90693597, -1.08837755, -1.34852508],\n",
       "       [-1.03081879, -0.10192233, -1.25960937, -1.34852508],\n",
       "       [-1.03081879,  0.90693597, -1.25960937, -1.08425037],\n",
       "       [-0.790212  ,  1.15915054, -1.31668664, -1.34852508],\n",
       "       [-0.790212  ,  0.90693597, -1.37376391, -1.34852508],\n",
       "       [-1.39172896,  0.40250682, -1.25960937, -1.34852508],\n",
       "       [-1.27142557,  0.15029225, -1.25960937, -1.34852508],\n",
       "       [-0.54960522,  0.90693597, -1.31668664, -1.08425037],\n",
       "       [-1.15112218,  0.15029225, -1.31668664, -1.34852508],\n",
       "       [-1.03081879,  0.40250682, -1.48791845, -1.34852508],\n",
       "       [-0.42930183,  1.15915054, -1.43084118, -1.34852508],\n",
       "       [-1.15112218,  1.41136512, -1.37376391, -1.48066244],\n",
       "       [-1.75263914, -0.10192233, -1.43084118, -1.34852508],\n",
       "       [-0.9105154 ,  0.90693597, -1.31668664, -1.34852508],\n",
       "       [-1.03081879,  1.15915054, -1.43084118, -1.21638772],\n",
       "       [-1.63233575, -1.86742434, -1.43084118, -1.21638772],\n",
       "       [-1.75263914,  0.40250682, -1.43084118, -1.34852508],\n",
       "       [-1.03081879,  1.15915054, -1.25960937, -0.81997565],\n",
       "       [-0.9105154 ,  1.91579426, -1.08837755, -1.08425037],\n",
       "       [-1.27142557, -0.10192233, -1.37376391, -1.21638772],\n",
       "       [-0.9105154 ,  1.91579426, -1.25960937, -1.34852508],\n",
       "       [-1.51203236,  0.40250682, -1.37376391, -1.34852508],\n",
       "       [-0.66990861,  1.66357969, -1.31668664, -1.34852508],\n",
       "       [-1.03081879,  0.65472139, -1.37376391, -1.34852508],\n",
       "       [ 1.37524905,  0.40250682,  0.50978604,  0.2371232 ],\n",
       "       [ 0.6534287 ,  0.40250682,  0.3956315 ,  0.36926056],\n",
       "       [ 1.25494566,  0.15029225,  0.62394058,  0.36926056],\n",
       "       [-0.42930183, -1.86742434,  0.11024514,  0.10498585],\n",
       "       [ 0.77373209, -0.60635148,  0.45270877,  0.36926056],\n",
       "       [-0.18869505, -0.60635148,  0.3956315 ,  0.10498585],\n",
       "       [ 0.5331253 ,  0.65472139,  0.50978604,  0.50139792],\n",
       "       [-1.15112218, -1.61520977, -0.28929576, -0.29142623],\n",
       "       [ 0.89403548, -0.3541369 ,  0.45270877,  0.10498585],\n",
       "       [-0.790212  , -0.85856605,  0.05316787,  0.2371232 ],\n",
       "       [ 0.05191174, -0.10192233,  0.22439968,  0.36926056],\n",
       "       [ 0.17221513, -2.11963892,  0.11024514, -0.29142623],\n",
       "       [ 0.29251852, -0.3541369 ,  0.50978604,  0.2371232 ],\n",
       "       [-0.30899844, -0.3541369 , -0.11806394,  0.10498585],\n",
       "       [ 1.01433887,  0.15029225,  0.33855422,  0.2371232 ],\n",
       "       [-0.30899844, -0.10192233,  0.3956315 ,  0.36926056],\n",
       "       [-0.06839165, -0.85856605,  0.16732241, -0.29142623],\n",
       "       [ 0.41282191, -2.11963892,  0.3956315 ,  0.36926056],\n",
       "       [-0.30899844, -1.3629952 ,  0.05316787, -0.15928887],\n",
       "       [ 0.05191174,  0.40250682,  0.56686331,  0.76567263],\n",
       "       [ 0.29251852, -0.60635148,  0.11024514,  0.10498585],\n",
       "       [ 0.5331253 , -1.3629952 ,  0.62394058,  0.36926056],\n",
       "       [ 0.29251852, -0.60635148,  0.50978604, -0.02715151],\n",
       "       [ 0.6534287 , -0.3541369 ,  0.28147695,  0.10498585],\n",
       "       [ 0.89403548, -0.10192233,  0.33855422,  0.2371232 ],\n",
       "       [ 1.13464226, -0.60635148,  0.56686331,  0.2371232 ],\n",
       "       [ 1.01433887, -0.10192233,  0.68101785,  0.63353527],\n",
       "       [ 0.17221513, -0.3541369 ,  0.3956315 ,  0.36926056],\n",
       "       [-0.18869505, -1.11078062, -0.17514122, -0.29142623],\n",
       "       [-0.42930183, -1.61520977, -0.0039094 , -0.15928887],\n",
       "       [-0.42930183, -1.61520977, -0.06098667, -0.29142623],\n",
       "       [-0.06839165, -0.85856605,  0.05316787, -0.02715151],\n",
       "       [ 0.17221513, -0.85856605,  0.73809512,  0.50139792],\n",
       "       [-0.54960522, -0.10192233,  0.3956315 ,  0.36926056],\n",
       "       [ 0.17221513,  0.90693597,  0.3956315 ,  0.50139792],\n",
       "       [ 1.01433887,  0.15029225,  0.50978604,  0.36926056],\n",
       "       [ 0.5331253 , -1.86742434,  0.33855422,  0.10498585],\n",
       "       [-0.30899844, -0.10192233,  0.16732241,  0.10498585],\n",
       "       [-0.42930183, -1.3629952 ,  0.11024514,  0.10498585],\n",
       "       [-0.42930183, -1.11078062,  0.33855422, -0.02715151],\n",
       "       [ 0.29251852, -0.10192233,  0.45270877,  0.2371232 ],\n",
       "       [-0.06839165, -1.11078062,  0.11024514, -0.02715151],\n",
       "       [-1.03081879, -1.86742434, -0.28929576, -0.29142623],\n",
       "       [-0.30899844, -0.85856605,  0.22439968,  0.10498585],\n",
       "       [-0.18869505, -0.10192233,  0.22439968, -0.02715151],\n",
       "       [-0.18869505, -0.3541369 ,  0.22439968,  0.10498585],\n",
       "       [ 0.41282191, -0.3541369 ,  0.28147695,  0.10498585],\n",
       "       [-0.9105154 , -1.3629952 , -0.46052757, -0.15928887],\n",
       "       [-0.18869505, -0.60635148,  0.16732241,  0.10498585],\n",
       "       [ 0.5331253 ,  0.65472139,  1.25179056,  1.69063413],\n",
       "       [-0.06839165, -0.85856605,  0.73809512,  0.89780999],\n",
       "       [ 1.49555244, -0.10192233,  1.19471329,  1.1620847 ],\n",
       "       [ 0.5331253 , -0.3541369 ,  1.02348148,  0.76567263],\n",
       "       [ 0.77373209, -0.10192233,  1.13763602,  1.29422206],\n",
       "       [ 2.0970694 , -0.10192233,  1.59425419,  1.1620847 ],\n",
       "       [-1.15112218, -1.3629952 ,  0.3956315 ,  0.63353527],\n",
       "       [ 1.73615922, -0.3541369 ,  1.42302237,  0.76567263],\n",
       "       [ 1.01433887, -1.3629952 ,  1.13763602,  0.76567263],\n",
       "       [ 1.61585583,  1.41136512,  1.30886783,  1.69063413],\n",
       "       [ 0.77373209,  0.40250682,  0.73809512,  1.02994734],\n",
       "       [ 0.6534287 , -0.85856605,  0.85224966,  0.89780999],\n",
       "       [ 1.13464226, -0.10192233,  0.96640421,  1.1620847 ],\n",
       "       [-0.18869505, -1.3629952 ,  0.68101785,  1.02994734],\n",
       "       [-0.06839165, -0.60635148,  0.73809512,  1.55849677],\n",
       "       [ 0.6534287 ,  0.40250682,  0.85224966,  1.42635941],\n",
       "       [ 0.77373209, -0.10192233,  0.96640421,  0.76567263],\n",
       "       [ 2.21737279,  1.91579426,  1.65133146,  1.29422206],\n",
       "       [ 2.21737279, -1.11078062,  1.765486  ,  1.42635941],\n",
       "       [ 0.17221513, -2.11963892,  0.68101785,  0.36926056],\n",
       "       [ 1.25494566,  0.40250682,  1.08055875,  1.42635941],\n",
       "       [-0.30899844, -0.60635148,  0.62394058,  1.02994734],\n",
       "       [ 2.21737279, -0.60635148,  1.65133146,  1.02994734],\n",
       "       [ 0.5331253 , -0.85856605,  0.62394058,  0.76567263],\n",
       "       [ 1.01433887,  0.65472139,  1.08055875,  1.1620847 ],\n",
       "       [ 1.61585583,  0.40250682,  1.25179056,  0.76567263],\n",
       "       [ 0.41282191, -0.60635148,  0.56686331,  0.76567263],\n",
       "       [ 0.29251852, -0.10192233,  0.62394058,  0.76567263],\n",
       "       [ 0.6534287 , -0.60635148,  1.02348148,  1.1620847 ],\n",
       "       [ 1.61585583, -0.10192233,  1.13763602,  0.50139792],\n",
       "       [ 1.85646261, -0.60635148,  1.30886783,  0.89780999],\n",
       "       [ 2.45797957,  1.91579426,  1.48009965,  1.02994734],\n",
       "       [ 0.6534287 , -0.60635148,  1.02348148,  1.29422206],\n",
       "       [ 0.5331253 , -0.60635148,  0.73809512,  0.36926056],\n",
       "       [ 0.29251852, -1.11078062,  1.02348148,  0.2371232 ],\n",
       "       [ 2.21737279, -0.10192233,  1.30886783,  1.42635941],\n",
       "       [ 0.5331253 ,  0.90693597,  1.02348148,  1.55849677],\n",
       "       [ 0.6534287 ,  0.15029225,  0.96640421,  0.76567263],\n",
       "       [ 0.17221513, -0.10192233,  0.56686331,  0.76567263],\n",
       "       [ 1.25494566,  0.15029225,  0.90932694,  1.1620847 ],\n",
       "       [ 1.01433887,  0.15029225,  1.02348148,  1.55849677],\n",
       "       [ 1.25494566,  0.15029225,  0.73809512,  1.42635941],\n",
       "       [-0.06839165, -0.85856605,  0.73809512,  0.89780999],\n",
       "       [ 1.13464226,  0.40250682,  1.19471329,  1.42635941],\n",
       "       [ 1.01433887,  0.65472139,  1.08055875,  1.69063413],\n",
       "       [ 1.01433887, -0.10192233,  0.79517239,  1.42635941],\n",
       "       [ 0.5331253 , -1.3629952 ,  0.68101785,  0.89780999],\n",
       "       [ 0.77373209, -0.10192233,  0.79517239,  1.02994734],\n",
       "       [ 0.41282191,  0.90693597,  0.90932694,  1.42635941],\n",
       "       [ 0.05191174, -0.10192233,  0.73809512,  0.76567263]])"
      ]
     },
     "execution_count": 22,
     "metadata": {},
     "output_type": "execute_result"
    }
   ],
   "source": [
    "df_norm"
   ]
  },
  {
   "cell_type": "code",
   "execution_count": 23,
   "metadata": {},
   "outputs": [
    {
     "data": {
      "text/html": [
       "<div>\n",
       "<style scoped>\n",
       "    .dataframe tbody tr th:only-of-type {\n",
       "        vertical-align: middle;\n",
       "    }\n",
       "\n",
       "    .dataframe tbody tr th {\n",
       "        vertical-align: top;\n",
       "    }\n",
       "\n",
       "    .dataframe thead th {\n",
       "        text-align: right;\n",
       "    }\n",
       "</style>\n",
       "<table border=\"1\" class=\"dataframe\">\n",
       "  <thead>\n",
       "    <tr style=\"text-align: right;\">\n",
       "      <th></th>\n",
       "      <th>num_cluster</th>\n",
       "      <th>cluster_errors</th>\n",
       "    </tr>\n",
       "  </thead>\n",
       "  <tbody>\n",
       "    <tr>\n",
       "      <th>0</th>\n",
       "      <td>1</td>\n",
       "      <td>584.000000</td>\n",
       "    </tr>\n",
       "    <tr>\n",
       "      <th>1</th>\n",
       "      <td>2</td>\n",
       "      <td>217.499302</td>\n",
       "    </tr>\n",
       "    <tr>\n",
       "      <th>2</th>\n",
       "      <td>3</td>\n",
       "      <td>134.345832</td>\n",
       "    </tr>\n",
       "    <tr>\n",
       "      <th>3</th>\n",
       "      <td>4</td>\n",
       "      <td>109.578228</td>\n",
       "    </tr>\n",
       "    <tr>\n",
       "      <th>4</th>\n",
       "      <td>5</td>\n",
       "      <td>88.907286</td>\n",
       "    </tr>\n",
       "    <tr>\n",
       "      <th>5</th>\n",
       "      <td>6</td>\n",
       "      <td>78.947901</td>\n",
       "    </tr>\n",
       "    <tr>\n",
       "      <th>6</th>\n",
       "      <td>7</td>\n",
       "      <td>68.030795</td>\n",
       "    </tr>\n",
       "    <tr>\n",
       "      <th>7</th>\n",
       "      <td>8</td>\n",
       "      <td>59.251448</td>\n",
       "    </tr>\n",
       "    <tr>\n",
       "      <th>8</th>\n",
       "      <td>9</td>\n",
       "      <td>53.154073</td>\n",
       "    </tr>\n",
       "    <tr>\n",
       "      <th>9</th>\n",
       "      <td>10</td>\n",
       "      <td>45.795495</td>\n",
       "    </tr>\n",
       "    <tr>\n",
       "      <th>10</th>\n",
       "      <td>11</td>\n",
       "      <td>42.372343</td>\n",
       "    </tr>\n",
       "    <tr>\n",
       "      <th>11</th>\n",
       "      <td>12</td>\n",
       "      <td>38.349847</td>\n",
       "    </tr>\n",
       "    <tr>\n",
       "      <th>12</th>\n",
       "      <td>13</td>\n",
       "      <td>35.654604</td>\n",
       "    </tr>\n",
       "    <tr>\n",
       "      <th>13</th>\n",
       "      <td>14</td>\n",
       "      <td>32.560002</td>\n",
       "    </tr>\n",
       "    <tr>\n",
       "      <th>14</th>\n",
       "      <td>15</td>\n",
       "      <td>30.769045</td>\n",
       "    </tr>\n",
       "    <tr>\n",
       "      <th>15</th>\n",
       "      <td>16</td>\n",
       "      <td>29.323231</td>\n",
       "    </tr>\n",
       "    <tr>\n",
       "      <th>16</th>\n",
       "      <td>17</td>\n",
       "      <td>26.878671</td>\n",
       "    </tr>\n",
       "    <tr>\n",
       "      <th>17</th>\n",
       "      <td>18</td>\n",
       "      <td>26.613126</td>\n",
       "    </tr>\n",
       "    <tr>\n",
       "      <th>18</th>\n",
       "      <td>19</td>\n",
       "      <td>24.979797</td>\n",
       "    </tr>\n",
       "  </tbody>\n",
       "</table>\n",
       "</div>"
      ],
      "text/plain": [
       "    num_cluster  cluster_errors\n",
       "0             1      584.000000\n",
       "1             2      217.499302\n",
       "2             3      134.345832\n",
       "3             4      109.578228\n",
       "4             5       88.907286\n",
       "5             6       78.947901\n",
       "6             7       68.030795\n",
       "7             8       59.251448\n",
       "8             9       53.154073\n",
       "9            10       45.795495\n",
       "10           11       42.372343\n",
       "11           12       38.349847\n",
       "12           13       35.654604\n",
       "13           14       32.560002\n",
       "14           15       30.769045\n",
       "15           16       29.323231\n",
       "16           17       26.878671\n",
       "17           18       26.613126\n",
       "18           19       24.979797"
      ]
     },
     "execution_count": 23,
     "metadata": {},
     "output_type": "execute_result"
    }
   ],
   "source": [
    "#To find the optimal no. of cluster\n",
    "cluster_range = range(1,20)\n",
    "cluster_errors = []\n",
    "\n",
    "for num_cluster in cluster_range:\n",
    "    clusters = KMeans(num_cluster, n_init = 10)\n",
    "    clusters.fit(df_norm)  \n",
    "    labels = clusters.labels_\n",
    "    centroids = clusters.cluster_centers_\n",
    "    cluster_errors.append(clusters.inertia_)\n",
    "    \n",
    "clusters_df = pd.DataFrame({'num_cluster': cluster_range, 'cluster_errors': cluster_errors})\n",
    "clusters_df[0:20]"
   ]
  },
  {
   "cell_type": "code",
   "execution_count": 24,
   "metadata": {},
   "outputs": [
    {
     "data": {
      "image/png": "[encoded data removed]",
      "text/plain": [
       "<Figure size 864x432 with 1 Axes>"
      ]
     },
     "metadata": {
      "needs_background": "light"
     },
     "output_type": "display_data"
    }
   ],
   "source": [
    "#Ploting elbow curve or sree to find the no. of cluster\n",
    "plt.figure(figsize=(12,6))\n",
    "plt.plot(clusters_df.num_cluster, clusters_df.cluster_errors, marker = 'o') \n",
    "plt.xlabel('Values of K') \n",
    " plt.ylabel('Error') \n",
    "plt.title('The Elbow Method using Distortion') \n",
    "plt.show() "
   ]
  },
  {
   "cell_type": "code",
   "execution_count": 27,
   "metadata": {},
   "outputs": [
    {
     "data": {
      "text/plain": [
       "KMeans(max_iter=50, n_clusters=3)"
      ]
     },
     "execution_count": 27,
     "metadata": {},
     "output_type": "execute_result"
    }
   ],
   "source": [
    "# Creating object of the model and fitting it\n",
    "model = KMeans(n_clusters=3, max_iter=50)\n",
    "model.fit(iris_df)"
   ]
  },
  {
   "cell_type": "code",
   "execution_count": 31,
   "metadata": {},
   "outputs": [],
   "source": [
    " # A  nalysis of cluster found\n",
    "iris_df.index = pd.RangeIndex(len(iris_df.index))\n",
    "df_km = pd.concat([iris_df, pd.Series(model.labels_)], axis=1)\n",
    "df_km.columns = ['sepal length (cm)', 'sepal width (cm)', 'petal length (cm)', 'petal width (cm)', 'ClusterID']\n",
    "\n",
    "km_clusters_Slength = pd.DataFrame(df_km.groupby(['ClusterID']).agg({'sepal length (cm)':'mean'}))\n",
    "km_clusters_Swidth = pd.DataFrame(df_km.groupby(['ClusterID']).agg ({'sepal width (cm)':'mean'}))\n",
    "km_clusters_Plength = pd.DataFrame(df_km.groupby(['ClusterID']).agg({'petal length (cm)':'mean'}))\n",
    "km_clusters_Pwidth = pd.DataFrame(df_km.groupby(['ClusterID']).agg({'petal width (cm)':'mean'}))"
   ]
  },
  {
   "cell_type": "code",
   "execution_count": 32,
   "metadata": {},
   "outputs": [
    {
     "data": {
      "text/html": [
       "<div>\n",
       "<style scoped>\n",
       "    .dataframe tbody tr th:only-of-type {\n",
       "        vertical-align: middle;\n",
       "    }\n",
       "\n",
       "    .dataframe tbody tr th {\n",
       "        vertical-align: top;\n",
       "    }\n",
       "\n",
       "    .dataframe thead th {\n",
       "        text-align: right;\n",
       "    }\n",
       "</style>\n",
       "<table border=\"1\" class=\"dataframe\">\n",
       "  <thead>\n",
       "    <tr style=\"text-align: right;\">\n",
       "      <th></th>\n",
       "      <th>ClusterID</th>\n",
       "      <th>sepal length (cm)_mean</th>\n",
       "      <th>sepal width (cm)_mean</th>\n",
       "      <th>petal length (cm)_mean</th>\n",
       "      <th>petal width (cm)_mean</th>\n",
       "    </tr>\n",
       "  </thead>\n",
       "  <tbody>\n",
       "    <tr>\n",
       "      <th>0</th>\n",
       "      <td>0</td>\n",
       "      <td>6.850000</td>\n",
       "      <td>3.073684</td>\n",
       "      <td>5.742105</td>\n",
       "      <td>2.071053</td>\n",
       "    </tr>\n",
       "    <tr>\n",
       "      <th>1</th>\n",
       "      <td>1</td>\n",
       "      <td>4.976596</td>\n",
       "      <td>3.376596</td>\n",
       "      <td>1.461702</td>\n",
       "      <td>0.246809</td>\n",
       "    </tr>\n",
       "    <tr>\n",
       "      <th>2</th>\n",
       "      <td>2</td>\n",
       "      <td>5.916393</td>\n",
       "      <td>2.760656</td>\n",
       "      <td>4.408197</td>\n",
       "      <td>1.440984</td>\n",
       "    </tr>\n",
       "  </tbody>\n",
       "</table>\n",
       "</div>"
      ],
      "text/plain": [
       "   ClusterID  sepal length (cm)_mean  sepal width (cm)_mean  \\\n",
       "0          0                6.850000               3.073684   \n",
       "1          1                4.976596               3.376596   \n",
       "2          2                5.916393               2.760656   \n",
       "\n",
       "   petal length (cm)_mean  petal width (cm)_mean  \n",
       "0                5.742105               2.071053  \n",
       "1                1.461702               0.246809  \n",
       "2                4.408197               1.440984  "
      ]
     },
     "execution_count": 32,
     "metadata": {},
     "output_type": "execute_result"
    }
   ],
   "source": [
    "df2 = pd.concat([pd.Series([0,1,2]), km_clusters_Slength, km_clusters_Swidth, km_clusters_Plength, km_clusters_Pwidth\n",
    "                ], axis=1)\n",
    "df2.columns = ['ClusterID','sepal length (cm)_mean','sepal width (cm)_mean','petal length (cm)_mean',\n",
    "               'petal width (cm)_mean']\n",
    "df2.head()"
   ]
  },
  {
   "cell_type": "code",
   "execution_count": 33,
   "metadata": {},
   "outputs": [
    {
     "data": {
      "image/png": "[encoded data removed]",
      "text/plain": [
       "<Figure size 432x288 with 1 Axes>"
      ]
     },
     "metadata": {
      "needs_background": "light"
     },
     "output_type": "display_data"
    }
   ],
   "source": [
    "sns.countplot(x=df_km.ClusterID)\n",
    "plt.title('Count plot for ClusterID column')\n",
    "plt.show()"
   ]
  },
  {
   "cell_type": "code",
   "execution_count": 34,
   "metadata": {},
   "outputs": [
    {
     "data": {
      "image/png": "[encoded data removed]",
      "text/plain": [
       "<Figure size 1080x504 with 1 Axes>"
      ]
     },
     "metadata": {
      "needs_background": "light"
     },
     "output_type": "display_data"
    }
   ],
   "source": [
    "#heirarchical clustering with full dendrogram\n",
    "plt.figure(figsize=(15,7))\n",
    "mergings = linkage(df_km, method = 'ward', metric='euclidean')\n",
    "\n",
    "# set cut-off to 50\n",
    "max_d = 7.08                # max_d as in max_distance\n",
    "dendrogram(mergings,\n",
    "           truncate_mode='lastp',  # show only the last p merged clusters\n",
    "           p=150,                  # Try changing values of p\n",
    "           leaf_rotation=90.,      # rotates the x axis labels\n",
    "           leaf_font_size=8.,      # font size for the x axis labels\n",
    "          )\n",
    "\n",
    "plt.axhline(y=max_d, c='k')\n",
    "plt.show()"
   ]
  },
  {
   "cell_type": "code",
   "execution_count": 35,
   "metadata": {},
   "outputs": [
    {
     "data": {
      "image/png": "[encoded data removed]",
      "text/plain": [
       "<Figure size 1080x504 with 1 Axes>"
      ]
     },
     "metadata": {
      "needs_background": "light"
     },
     "output_type": "display_data"
    }
   ],
   "source": [
    "#heirarchical clustering with full dendrogram for 50\n",
    "plt.figure(figsize=(15,7))\n",
    "mergings = linkage(df_km, method = 'ward', metric='euclidean')\n",
    "\n",
    "# set cut-off to 50\n",
    "max_d = 7.08                # max_d as in max_distance\n",
    "dendrogram(mergings,\n",
    "           truncate_mode='lastp',  # show only the last p merged clusters\n",
    "           p=50,                  # Try changing values of p\n",
    "           leaf_rotation=90.,      # rotates the x axis labels\n",
    "           leaf_font_size=8.,      # font size for the x axis labels\n",
    "          )\n",
    "\n",
    "plt.axhline(y=max_d, c='k')\n",
    "plt.show()"
   ]
  },
  {
   "cell_type": "code",
   "execution_count": 36,
   "metadata": {},
   "outputs": [
    {
     "data": {
      "image/png": "[encoded data removed]",
      "text/plain": [
       "<Figure size 720x504 with 1 Axes>"
      ]
     },
     "metadata": {
      "needs_background": "light"
     },
     "output_type": "display_data"
    }
   ],
   "source": [
    "# Scatter plot to visualize the clusters\n",
    "plt.figure(figsize=(10,7))\n",
    "sns.scatterplot(x='sepal length (cm)',y='sepal width (cm)', data=df_km, hue='ClusterID', palette=['green','blue','red'])\n",
    "\n",
    "# Plotting the centroids of the clusters\n",
    "plt.scatter(model.cluster_centers_[:, 0], model.cluster_centers_[:,1], \n",
    "            s = 100, c = 'yellow', label = 'Centroids')\n",
    "plt.show()"
   ]
  },
  {
   "cell_type": "code",
   "execution_count": null,
   "metadata": {},
   "outputs": [],
   "source": []
  }
 ],
 "metadata": {
  "kernelspec": {
   "display_name": "Python 3",
   "language": "python",
   "name": "python3"
  },
  "language_info": {
   "codemirror_mode": {
    "name": "ipython",
    "version": 3
   },
   "file_extension": ".py",
   "mimetype": "text/x-python",
   "name": "python",
   "nbconvert_exporter": "python",
   "pygments_lexer": "ipython3",
   "version": "3.8.5"
  }
 },
 "nbformat": 4,
 "nbformat_minor": 4
}
